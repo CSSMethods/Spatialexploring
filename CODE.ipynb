{
 "cells": [
  {
   "cell_type": "code",
   "execution_count": null,
   "id": "40a3f5de-e16d-40f7-8a42-7675f0c725c9",
   "metadata": {},
   "outputs": [],
   "source": [
    "import geopandas as gpd\n",
    "\n",
    "mainLink='https://github.com/DACSS-CSSmeths/Spatial-Exploring/raw/refs/heads/main/maps/countriesCIA.gpkg'\n",
    "mapsLink=mainLink+'maps/worldMaps_Py.gpkg'\n",
    "\n",
    "gpd.list_layers(mainLink)\n",
    "\n",
    "cia=gpd.read_file(mainLink, layer='cia')\n",
    "cia.head()"
   ]
  },
  {
   "cell_type": "code",
   "execution_count": null,
   "id": "5b1a93cc-0309-4bf0-9324-a4c513c877fd",
   "metadata": {},
   "outputs": [],
   "source": [
    "!pip install mapclassify\n",
    "import mapclassify"
   ]
  },
  {
   "cell_type": "code",
   "execution_count": null,
   "id": "f914973c-348f-4dd1-a1f7-4df48bf05b09",
   "metadata": {},
   "outputs": [],
   "source": [
    "import numpy as np\n",
    "\n",
    "np.random.seed(12345)\n",
    "\n",
    "K=5\n",
    "theVar=cia.obesityAdults_rate\n",
    "\n",
    "\n",
    "# same interval width, easy interpretation\n",
    "ei5 = mapclassify.EqualInterval(theVar, k=K)\n",
    "# same interval width based on standard deviation, easy - but not as the previous one, poor when high skewness\n",
    "msd = mapclassify.StdMean(theVar)\n",
    "# interval width varies, counts per interval are close, not easy to grasp, repeated values complicate cuts\n",
    "q5=mapclassify.Quantiles(theVar,k=K)\n",
    "# based on similarity, good for multimodal data\n",
    "mb5 = mapclassify.MaximumBreaks(theVar, k=K)\n",
    "# based on similarity, optimizer\n",
    "fj5 = mapclassify.FisherJenks(theVar, k=K)\n",
    "# based on similarity, optimizer\n",
    "jc5 = mapclassify.JenksCaspall(theVar, k=K)\n",
    "# based on similarity, optimizer\n",
    "mp5 = mapclassify.MaxP(theVar, k=K)\n",
    "\n",
    "###### based on similarity, good for skewed data\n",
    "ht = mapclassify.HeadTailBreaks(theVar)"
   ]
  },
  {
   "cell_type": "code",
   "execution_count": null,
   "id": "8fec964c-9138-4706-932d-ab8ccf9c6653",
   "metadata": {},
   "outputs": [],
   "source": [
    "import pandas as pd\n",
    "\n",
    "class5 = ei5,msd, q5,mb5,  ht, fj5, jc5, mp5\n",
    "# Collect ADCM for each classifier\n",
    "fits = np.array([ c.adcm for c in class5])\n",
    "# Convert ADCM scores to a DataFrame\n",
    "adcms = pd.DataFrame(fits)\n",
    "# Add classifier names\n",
    "adcms['classifier'] = [c.name for c in class5]\n",
    "# Add column names to the ADCM\n",
    "adcms.columns = ['ADCM', 'Classifier']"
   ]
  },
  {
   "cell_type": "code",
   "execution_count": null,
   "id": "8d7f6fa8-c50b-49f1-a770-c0d3d85f1dab",
   "metadata": {},
   "outputs": [],
   "source": [
    "import matplotlib.pyplot as plt\n",
    "adcms.sort_values('ADCM').plot.barh(x='Classifier')\n",
    "plt.show();"
   ]
  },
  {
   "cell_type": "code",
   "execution_count": null,
   "id": "e57b77fe-d7fc-40c8-9ccf-4460a5091aa2",
   "metadata": {},
   "outputs": [],
   "source": [
    "fj5.yb"
   ]
  },
  {
   "cell_type": "code",
   "execution_count": null,
   "id": "a6e2a9da-49c6-4a3d-8d72-0587072168ed",
   "metadata": {},
   "outputs": [],
   "source": [
    "cia['obesity_code']=fj5.yb\n",
    "\n",
    "cia=cia.assign(obesity_levels=cia.obesity_code)"
   ]
  },
  {
   "cell_type": "code",
   "execution_count": null,
   "id": "cffabb0d-a4b8-4dae-a62b-f872a7d5e810",
   "metadata": {},
   "outputs": [],
   "source": [
    "newLevels={0:'1.very low',1:'2.low', 2:'3.average',3:'4.high', 4:'5.very high'}\n",
    "\n",
    "cia.replace({'obesity_levels':newLevels}, inplace=True)\n",
    "\n",
    "cia.obesity_levels.value_counts()"
   ]
  },
  {
   "cell_type": "code",
   "execution_count": null,
   "id": "8a452812-536b-4a44-af9a-d16891f754ff",
   "metadata": {},
   "outputs": [],
   "source": [
    "countries=gpd.read_file(mainLink, layer='border')\n",
    "worldBorders=countries.dissolve()\n",
    "base=worldBorders.plot(color='lightgrey',\n",
    "                     figsize=(15, 10))\n",
    "cia.plot(column='tobacco_levels',ax=base,\n",
    "                     cmap='PiYG_r', # reversed\n",
    "                     categorical=True,\n",
    "                     linewidth=0.,\n",
    "                     legend=True,\n",
    "                     legend_kwds={\"title\": \"Obesity Rate (%)\\n(missing data in grey)\"}\n",
    "                   )\n",
    "base.set_axis_off()\n",
    "\n",
    "# locating the legend\n",
    "leg = base.get_legend()\n",
    "leg.set_bbox_to_anchor((0.2, 0.6)) \n",
    "\n",
    "plt.show();"
   ]
  },
  {
   "cell_type": "code",
   "execution_count": null,
   "id": "1b7ad4fb-4dfa-4709-8c69-3bc5955440e2",
   "metadata": {},
   "outputs": [],
   "source": [
    "topcountries=cia[(cia.tobacco_code==0) & (cia.alcohol_code==0) & (cia.obesity_code==0)]\n",
    "topcountries"
   ]
  },
  {
   "cell_type": "code",
   "execution_count": null,
   "id": "1457fbc2-2ca1-40f0-b161-23b5b220d312",
   "metadata": {},
   "outputs": [],
   "source": [
    "cia.info()\n",
    "###UNABLE TO SAVE OVER LAYERS AS SEEN IN LINE 57 OF TUTORIAL\n",
    "###GIVES ERRROR UNABLE TO ACCESS DATABASE"
   ]
  }
 ],
 "metadata": {
  "kernelspec": {
   "display_name": "Python [conda env:base] *",
   "language": "python",
   "name": "conda-base-py"
  },
  "language_info": {
   "codemirror_mode": {
    "name": "ipython",
    "version": 3
   },
   "file_extension": ".py",
   "mimetype": "text/x-python",
   "name": "python",
   "nbconvert_exporter": "python",
   "pygments_lexer": "ipython3",
   "version": "3.12.2"
  }
 },
 "nbformat": 4,
 "nbformat_minor": 5
}
